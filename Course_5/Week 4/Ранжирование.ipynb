{
 "cells": [
  {
   "cell_type": "code",
   "execution_count": 1,
   "metadata": {},
   "outputs": [
    {
     "name": "stdout",
     "output_type": "stream",
     "text": [
      "Populating the interactive namespace from numpy and matplotlib\n"
     ]
    }
   ],
   "source": [
    "import pandas as pd\n",
    "\n",
    "%pylab inline"
   ]
  },
  {
   "cell_type": "code",
   "execution_count": 332,
   "metadata": {
    "scrolled": true
   },
   "outputs": [],
   "source": [
    "train = []\n",
    "\n",
    "with open(\"coursera_sessions_train.txt\",'r') as f:\n",
    "    for line in f:\n",
    "        l = line.split(';')\n",
    "        see = list(map(int, l[0].split(',')))\n",
    "        if l[1] == '\\n':\n",
    "            buy = []\n",
    "        else:\n",
    "            buy = list(map(int, l[1].strip().split(',')))\n",
    "        train.append({'see': see, 'buy': buy})"
   ]
  },
  {
   "cell_type": "code",
   "execution_count": 333,
   "metadata": {},
   "outputs": [],
   "source": [
    "test = []\n",
    "\n",
    "with open(\"coursera_sessions_test.txt\",'r') as f:\n",
    "    for line in f:\n",
    "        l = line.split(';')\n",
    "        see = list(map(int, l[0].split(',')))\n",
    "        if l[1] == '\\n':\n",
    "            buy = []\n",
    "        else:\n",
    "            buy = list(map(int, l[1].strip().split(',')))\n",
    "        test.append({'see': see, 'buy': buy})"
   ]
  },
  {
   "cell_type": "code",
   "execution_count": 334,
   "metadata": {},
   "outputs": [],
   "source": [
    "from collections import Counter"
   ]
  },
  {
   "cell_type": "code",
   "execution_count": 338,
   "metadata": {},
   "outputs": [],
   "source": [
    "c_see = Counter()"
   ]
  },
  {
   "cell_type": "code",
   "execution_count": 339,
   "metadata": {},
   "outputs": [],
   "source": [
    "for line in train:\n",
    "    c_see.update(line['see'])"
   ]
  },
  {
   "cell_type": "code",
   "execution_count": 340,
   "metadata": {
    "scrolled": true
   },
   "outputs": [
    {
     "data": {
      "text/plain": [
       "[(73, 677), (158, 641), (204, 396), (262, 387), (162, 318)]"
      ]
     },
     "execution_count": 340,
     "metadata": {},
     "output_type": "execute_result"
    }
   ],
   "source": [
    "c_see.most_common(5)"
   ]
  },
  {
   "cell_type": "code",
   "execution_count": 341,
   "metadata": {},
   "outputs": [],
   "source": [
    "c_buy = Counter()\n",
    "\n",
    "for line in train:\n",
    "    c_buy.update(line['buy'])"
   ]
  },
  {
   "cell_type": "code",
   "execution_count": 342,
   "metadata": {},
   "outputs": [
    {
     "data": {
      "text/plain": [
       "[(158, 14), (204, 12), (3324, 11), (73, 11), (5569, 10)]"
      ]
     },
     "execution_count": 342,
     "metadata": {},
     "output_type": "execute_result"
    }
   ],
   "source": [
    "c_buy.most_common(5)"
   ]
  },
  {
   "cell_type": "code",
   "execution_count": 315,
   "metadata": {},
   "outputs": [],
   "source": [
    "from collections import OrderedDict"
   ]
  },
  {
   "cell_type": "code",
   "execution_count": 317,
   "metadata": {},
   "outputs": [
    {
     "data": {
      "text/plain": [
       "[2, 1, 3, 4, 5]"
      ]
     },
     "execution_count": 317,
     "metadata": {},
     "output_type": "execute_result"
    }
   ],
   "source": [
    "d = list(OrderedDict.fromkeys([2,1,2,1,2,3,4,4,5]))\n",
    "d"
   ]
  },
  {
   "cell_type": "code",
   "execution_count": 318,
   "metadata": {},
   "outputs": [
    {
     "data": {
      "text/plain": [
       "4"
      ]
     },
     "execution_count": 318,
     "metadata": {},
     "output_type": "execute_result"
    }
   ],
   "source": [
    "c_see[5]"
   ]
  },
  {
   "cell_type": "code",
   "execution_count": 320,
   "metadata": {},
   "outputs": [
    {
     "data": {
      "text/plain": [
       "[4, 2, 3, 1, 5]"
      ]
     },
     "execution_count": 320,
     "metadata": {},
     "output_type": "execute_result"
    }
   ],
   "source": [
    "sorted(d, key=lambda x: c_see[x], reverse=True)"
   ]
  },
  {
   "cell_type": "code",
   "execution_count": 325,
   "metadata": {},
   "outputs": [
    {
     "data": {
      "text/plain": [
       "[262, 263, 264]"
      ]
     },
     "execution_count": 325,
     "metadata": {},
     "output_type": "execute_result"
    }
   ],
   "source": [
    "list(OrderedDict.fromkeys(train[26]['see']))"
   ]
  },
  {
   "cell_type": "code",
   "execution_count": 324,
   "metadata": {},
   "outputs": [
    {
     "data": {
      "text/plain": [
       "[262, 263, 262, 264]"
      ]
     },
     "execution_count": 324,
     "metadata": {},
     "output_type": "execute_result"
    }
   ],
   "source": [
    "train[26]['see']"
   ]
  },
  {
   "cell_type": "code",
   "execution_count": 350,
   "metadata": {},
   "outputs": [],
   "source": [
    "def precision (data, counter, k):\n",
    "    \n",
    "    prec = 0\n",
    "    c = 0\n",
    "    for line in data:\n",
    "        if line['buy'] == []:\n",
    "            continue\n",
    "        else:\n",
    "            c +=1\n",
    "            ids =  list(OrderedDict.fromkeys(line['see']))\n",
    "            ids = sorted(ids, key=lambda x: counter[x], reverse=True)\n",
    "\n",
    "            ids_buy = line['buy']\n",
    "\n",
    "            summ = 0\n",
    "            k_range = min(k, len(ids))\n",
    "            for i in ids[0:k_range]:\n",
    "                if i in ids_buy:\n",
    "                    summ +=1\n",
    "\n",
    "            prec += summ/k\n",
    "    \n",
    "    prec = prec/c\n",
    "    \n",
    "    return prec"
   ]
  },
  {
   "cell_type": "code",
   "execution_count": 351,
   "metadata": {},
   "outputs": [],
   "source": [
    "def recall (data, counter, k):\n",
    "    \n",
    "    recll = 0\n",
    "    c = 0\n",
    "    for line in data:\n",
    "        if line['buy'] == []:\n",
    "            continue\n",
    "        else:\n",
    "            c +=1\n",
    "            ids =  list(OrderedDict.fromkeys(line['see']))\n",
    "            ids = sorted(ids, key=lambda x: counter[x], reverse=True)\n",
    "\n",
    "            ids_buy = line['buy']\n",
    "\n",
    "            summ = 0\n",
    "            k_range = min(k, len(ids))\n",
    "            for i in ids[0:k_range]:\n",
    "                if i in ids_buy:\n",
    "                    summ +=1\n",
    "\n",
    "            recll += summ/len(ids_buy)\n",
    "    \n",
    "    recll = recll/c\n",
    "    \n",
    "    return recll"
   ]
  },
  {
   "cell_type": "code",
   "execution_count": 367,
   "metadata": {},
   "outputs": [
    {
     "data": {
      "text/plain": [
       "(0.51, 0.82, 0.21, 0.44)"
      ]
     },
     "execution_count": 367,
     "metadata": {},
     "output_type": "execute_result"
    }
   ],
   "source": [
    "avgprec_see_train_1 = round(precision (train, c_see, 1),2)\n",
    "\n",
    "avgrecll_see_train_1 = round(recall (train, c_see, 1),2)\n",
    "\n",
    "avgprec_see_train_5 = round(precision (train, c_see, 5),2)\n",
    "\n",
    "avgrecll_see_train_5 = round(recall (train, c_see, 5),2)\n",
    "\n",
    "avgprec_see_train_1, avgrecll_see_train_5,avgprec_see_train_5,  avgrecll_see_train_1 "
   ]
  },
  {
   "cell_type": "code",
   "execution_count": 368,
   "metadata": {},
   "outputs": [],
   "source": [
    "#AverageRecall@1, AveragePrecision@1, AverageRecall@5, AveragePrecision@5 "
   ]
  },
  {
   "cell_type": "code",
   "execution_count": 369,
   "metadata": {},
   "outputs": [],
   "source": [
    "with open('ans_1.txt', 'w+') as f:\n",
    "    f.write(f'{avgrecll_see_train_1} {avgprec_see_train_1} {avgrecll_see_train_5} {avgprec_see_train_5}')"
   ]
  },
  {
   "cell_type": "code",
   "execution_count": null,
   "metadata": {},
   "outputs": [],
   "source": []
  },
  {
   "cell_type": "code",
   "execution_count": 370,
   "metadata": {},
   "outputs": [
    {
     "data": {
      "text/plain": [
       "(0.48, 0.42, 0.2, 0.8)"
      ]
     },
     "execution_count": 370,
     "metadata": {},
     "output_type": "execute_result"
    }
   ],
   "source": [
    "avgprec_see_test_1 = round(precision (test, c_see, 1),2)\n",
    "\n",
    "avgrecll_see_test_1 = round(recall (test, c_see, 1),2)\n",
    "\n",
    "avgprec_see_test_5 = round(precision (test, c_see, 5),2)\n",
    "\n",
    "avgrecll_see_test_5 = round(recall (test, c_see, 5),2)\n",
    "\n",
    "avgprec_see_test_1, avgrecll_see_test_1, avgprec_see_test_5, avgrecll_see_test_5"
   ]
  },
  {
   "cell_type": "code",
   "execution_count": 371,
   "metadata": {},
   "outputs": [],
   "source": [
    "with open('ans_2.txt', 'w+') as f:\n",
    "    f.write(f'{avgrecll_see_test_1} {avgprec_see_test_1} {avgrecll_see_test_5} {avgprec_see_test_5}')"
   ]
  },
  {
   "cell_type": "code",
   "execution_count": null,
   "metadata": {},
   "outputs": [],
   "source": []
  },
  {
   "cell_type": "code",
   "execution_count": 372,
   "metadata": {},
   "outputs": [
    {
     "data": {
      "text/plain": [
       "(0.8, 0.69, 0.25, 0.93)"
      ]
     },
     "execution_count": 372,
     "metadata": {},
     "output_type": "execute_result"
    }
   ],
   "source": [
    "avgprec_buy_train_1 = round(precision (train, c_buy, 1),2)\n",
    "\n",
    "avgrecll_buy_train_1 = round(recall (train, c_buy, 1),2)\n",
    "\n",
    "avgprec_buy_train_5 = round(precision (train, c_buy, 5),2)\n",
    "\n",
    "avgrecll_buy_train_5 = round(recall (train, c_buy, 5),2)\n",
    "\n",
    "avgprec_buy_train_1, avgrecll_buy_train_1, avgprec_buy_train_5, avgrecll_buy_train_5"
   ]
  },
  {
   "cell_type": "code",
   "execution_count": null,
   "metadata": {},
   "outputs": [],
   "source": []
  },
  {
   "cell_type": "code",
   "execution_count": 373,
   "metadata": {},
   "outputs": [],
   "source": [
    "with open('ans_3.txt', 'w+') as f:\n",
    "    f.write(f'{avgrecll_buy_train_1} {avgprec_buy_train_1} {avgrecll_buy_train_5} {avgprec_buy_train_5}')"
   ]
  },
  {
   "cell_type": "code",
   "execution_count": null,
   "metadata": {},
   "outputs": [],
   "source": []
  },
  {
   "cell_type": "code",
   "execution_count": 374,
   "metadata": {},
   "outputs": [
    {
     "data": {
      "text/plain": [
       "(0.53, 0.46, 0.21, 0.82)"
      ]
     },
     "execution_count": 374,
     "metadata": {},
     "output_type": "execute_result"
    }
   ],
   "source": [
    "avgprec_buy_test_1 = round(precision (test, c_buy, 1),2)\n",
    "\n",
    "avgrecll_buy_test_1 = round(recall (test, c_buy, 1),2)\n",
    "\n",
    "avgprec_buy_test_5 = round(precision (test, c_buy, 5),2)\n",
    "\n",
    "avgrecll_buy_test_5 = round(recall (test, c_buy, 5),2)\n",
    "\n",
    "avgprec_buy_test_1, avgrecll_buy_test_1, avgprec_buy_test_5, avgrecll_buy_test_5"
   ]
  },
  {
   "cell_type": "code",
   "execution_count": 375,
   "metadata": {},
   "outputs": [],
   "source": [
    "with open('ans_4.txt', 'w+') as f:\n",
    "    f.write(f'{avgrecll_buy_test_1} {avgprec_buy_test_1} {avgrecll_buy_test_5} {avgprec_buy_test_5}')"
   ]
  },
  {
   "cell_type": "code",
   "execution_count": null,
   "metadata": {},
   "outputs": [],
   "source": []
  }
 ],
 "metadata": {
  "kernelspec": {
   "display_name": "Python 3",
   "language": "python",
   "name": "python3"
  },
  "language_info": {
   "codemirror_mode": {
    "name": "ipython",
    "version": 3
   },
   "file_extension": ".py",
   "mimetype": "text/x-python",
   "name": "python",
   "nbconvert_exporter": "python",
   "pygments_lexer": "ipython3",
   "version": "3.7.3"
  }
 },
 "nbformat": 4,
 "nbformat_minor": 4
}
